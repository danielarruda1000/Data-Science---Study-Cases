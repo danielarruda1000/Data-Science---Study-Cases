{
  "nbformat": 4,
  "nbformat_minor": 0,
  "metadata": {
    "colab": {
      "provenance": [],
      "authorship_tag": "ABX9TyMj0To7IFXLo75cp3S+gKmJ",
      "include_colab_link": true
    },
    "kernelspec": {
      "name": "python3",
      "display_name": "Python 3"
    },
    "language_info": {
      "name": "python"
    }
  },
  "cells": [
    {
      "cell_type": "markdown",
      "metadata": {
        "id": "view-in-github",
        "colab_type": "text"
      },
      "source": [
        "<a href=\"https://colab.research.google.com/github/danielarruda1000/Data-Science---Study-Cases/blob/master/Content_Bades_filtering.ipynb\" target=\"_parent\"><img src=\"https://colab.research.google.com/assets/colab-badge.svg\" alt=\"Open In Colab\"/></a>"
      ]
    },
    {
      "cell_type": "code",
      "execution_count": 2,
      "metadata": {
        "id": "XhIMaPeROF-Y"
      },
      "outputs": [],
      "source": [
        "import tensorflow as tf"
      ]
    },
    {
      "cell_type": "code",
      "source": [
        "from pprint import pprint"
      ],
      "metadata": {
        "id": "NxgmkHVzPhZm"
      },
      "execution_count": 6,
      "outputs": []
    },
    {
      "cell_type": "code",
      "source": [
        "#each row represent a user ['a','b', 'c', 'd']\n",
        "#each column represent a movie ['Start wars', 'Dark Knight','Shrek','The Incridibles','Bleu','HP']"
      ],
      "metadata": {
        "id": "jptasJEYOwQ8"
      },
      "execution_count": null,
      "outputs": []
    },
    {
      "cell_type": "code",
      "source": [
        "user_movies = tf.constant([[4,6,8,0,0],\n",
        "                           [0,0,10,0,8],\n",
        "                           [0,6,0,0,3],\n",
        "                           [10,9,0,5,0]])"
      ],
      "metadata": {
        "id": "jHQtjN-3OrgT"
      },
      "execution_count": 5,
      "outputs": []
    },
    {
      "cell_type": "code",
      "source": [
        "pprint(user_movies)"
      ],
      "metadata": {
        "colab": {
          "base_uri": "https://localhost:8080/"
        },
        "id": "_hpia-IdPWQC",
        "outputId": "904ad94b-8e23-47e4-d554-0df44062ca4f"
      },
      "execution_count": 7,
      "outputs": [
        {
          "output_type": "stream",
          "name": "stdout",
          "text": [
            "<tf.Tensor: shape=(4, 5), dtype=int32, numpy=\n",
            "array([[ 4,  6,  8,  0,  0],\n",
            "       [ 0,  0, 10,  0,  8],\n",
            "       [ 0,  6,  0,  0,  3],\n",
            "       [10,  9,  0,  5,  0]], dtype=int32)>\n"
          ]
        }
      ]
    },
    {
      "cell_type": "code",
      "source": [
        "# The columns represent ['Action', 'Sci-fi','Comedy', 'Cartoon','Drame']\n",
        "movies_feats = tf.constant([[1,1,0,0,1],\n",
        "                            [1,1,0,0,0],\n",
        "                            [0,0,1,1,0],\n",
        "                            [1,0,1,1,0],\n",
        "                            [0,0,0,0,1]])"
      ],
      "metadata": {
        "id": "TRi8wDNdPjPx"
      },
      "execution_count": 8,
      "outputs": []
    },
    {
      "cell_type": "code",
      "source": [
        "pprint(movies_feats)"
      ],
      "metadata": {
        "colab": {
          "base_uri": "https://localhost:8080/"
        },
        "id": "3Sj_dZKmP23g",
        "outputId": "f9bd46d2-b1da-47e6-b978-62cc18cebd44"
      },
      "execution_count": 9,
      "outputs": [
        {
          "output_type": "stream",
          "name": "stdout",
          "text": [
            "<tf.Tensor: shape=(5, 5), dtype=int32, numpy=\n",
            "array([[1, 1, 0, 0, 1],\n",
            "       [1, 1, 0, 0, 0],\n",
            "       [0, 0, 1, 1, 0],\n",
            "       [1, 0, 1, 1, 0],\n",
            "       [0, 0, 0, 0, 1]], dtype=int32)>\n"
          ]
        }
      ]
    },
    {
      "cell_type": "code",
      "source": [
        "user_movies.shape[0]"
      ],
      "metadata": {
        "colab": {
          "base_uri": "https://localhost:8080/"
        },
        "id": "CZOKtvVWQiWP",
        "outputId": "fda21ac4-108b-4943-d1f5-2cb32df6663b"
      },
      "execution_count": 17,
      "outputs": [
        {
          "output_type": "execute_result",
          "data": {
            "text/plain": [
              "4"
            ]
          },
          "metadata": {},
          "execution_count": 17
        }
      ]
    },
    {
      "cell_type": "code",
      "source": [
        "wgtd_features_matrices = [tf.expand_dims(tf.transpose(user_movies)[:,i],axis=1) * movies_feats for i in range(user_movies.shape[0])]"
      ],
      "metadata": {
        "id": "cdm1-OPbP47q"
      },
      "execution_count": 20,
      "outputs": []
    },
    {
      "cell_type": "code",
      "source": [
        "wgtd_features_matrices"
      ],
      "metadata": {
        "colab": {
          "base_uri": "https://localhost:8080/"
        },
        "id": "E5LULHClQcfN",
        "outputId": "327e594b-936f-4ed3-fc02-a188a96c9f41"
      },
      "execution_count": 22,
      "outputs": [
        {
          "output_type": "execute_result",
          "data": {
            "text/plain": [
              "[<tf.Tensor: shape=(5, 5), dtype=int32, numpy=\n",
              " array([[4, 4, 0, 0, 4],\n",
              "        [6, 6, 0, 0, 0],\n",
              "        [0, 0, 8, 8, 0],\n",
              "        [0, 0, 0, 0, 0],\n",
              "        [0, 0, 0, 0, 0]], dtype=int32)>,\n",
              " <tf.Tensor: shape=(5, 5), dtype=int32, numpy=\n",
              " array([[ 0,  0,  0,  0,  0],\n",
              "        [ 0,  0,  0,  0,  0],\n",
              "        [ 0,  0, 10, 10,  0],\n",
              "        [ 0,  0,  0,  0,  0],\n",
              "        [ 0,  0,  0,  0,  8]], dtype=int32)>,\n",
              " <tf.Tensor: shape=(5, 5), dtype=int32, numpy=\n",
              " array([[0, 0, 0, 0, 0],\n",
              "        [6, 6, 0, 0, 0],\n",
              "        [0, 0, 0, 0, 0],\n",
              "        [0, 0, 0, 0, 0],\n",
              "        [0, 0, 0, 0, 3]], dtype=int32)>,\n",
              " <tf.Tensor: shape=(5, 5), dtype=int32, numpy=\n",
              " array([[10, 10,  0,  0, 10],\n",
              "        [ 9,  9,  0,  0,  0],\n",
              "        [ 0,  0,  0,  0,  0],\n",
              "        [ 5,  0,  5,  5,  0],\n",
              "        [ 0,  0,  0,  0,  0]], dtype=int32)>]"
            ]
          },
          "metadata": {},
          "execution_count": 22
        }
      ]
    },
    {
      "cell_type": "code",
      "source": [
        "user_movies_feats = tf.stack(wgtd_features_matrices, axis=0)"
      ],
      "metadata": {
        "id": "DY15BUegQ2e9"
      },
      "execution_count": 23,
      "outputs": []
    },
    {
      "cell_type": "code",
      "source": [
        "user_movies_feats #(shape = num users, moveis, features)"
      ],
      "metadata": {
        "colab": {
          "base_uri": "https://localhost:8080/"
        },
        "id": "X4VroWGYRLCl",
        "outputId": "bb79c0ee-43f0-45aa-8381-074645dec077"
      },
      "execution_count": 24,
      "outputs": [
        {
          "output_type": "execute_result",
          "data": {
            "text/plain": [
              "<tf.Tensor: shape=(4, 5, 5), dtype=int32, numpy=\n",
              "array([[[ 4,  4,  0,  0,  4],\n",
              "        [ 6,  6,  0,  0,  0],\n",
              "        [ 0,  0,  8,  8,  0],\n",
              "        [ 0,  0,  0,  0,  0],\n",
              "        [ 0,  0,  0,  0,  0]],\n",
              "\n",
              "       [[ 0,  0,  0,  0,  0],\n",
              "        [ 0,  0,  0,  0,  0],\n",
              "        [ 0,  0, 10, 10,  0],\n",
              "        [ 0,  0,  0,  0,  0],\n",
              "        [ 0,  0,  0,  0,  8]],\n",
              "\n",
              "       [[ 0,  0,  0,  0,  0],\n",
              "        [ 6,  6,  0,  0,  0],\n",
              "        [ 0,  0,  0,  0,  0],\n",
              "        [ 0,  0,  0,  0,  0],\n",
              "        [ 0,  0,  0,  0,  3]],\n",
              "\n",
              "       [[10, 10,  0,  0, 10],\n",
              "        [ 9,  9,  0,  0,  0],\n",
              "        [ 0,  0,  0,  0,  0],\n",
              "        [ 5,  0,  5,  5,  0],\n",
              "        [ 0,  0,  0,  0,  0]]], dtype=int32)>"
            ]
          },
          "metadata": {},
          "execution_count": 24
        }
      ]
    },
    {
      "cell_type": "code",
      "source": [
        "# Normalize\n",
        "\n",
        "#1) Sum movie feats\n",
        "user_movies_feats_sum = tf.reduce_sum(user_movies_feats, axis=1)\n",
        "\n",
        "#2) Total\n",
        "user_movies_feats_totals = tf.reduce_sum(user_movies_feats_sum, axis=1)"
      ],
      "metadata": {
        "id": "PZGXZ5aDRLpm"
      },
      "execution_count": 28,
      "outputs": []
    },
    {
      "cell_type": "code",
      "source": [
        "user_movies_feats_sum"
      ],
      "metadata": {
        "colab": {
          "base_uri": "https://localhost:8080/"
        },
        "id": "wUVfV6fvRx0w",
        "outputId": "b1fa2697-acf7-463c-dcec-25475f0809ab"
      },
      "execution_count": 26,
      "outputs": [
        {
          "output_type": "execute_result",
          "data": {
            "text/plain": [
              "<tf.Tensor: shape=(4, 5), dtype=int32, numpy=\n",
              "array([[10, 10,  8,  8,  4],\n",
              "       [ 0,  0, 10, 10,  8],\n",
              "       [ 6,  6,  0,  0,  3],\n",
              "       [24, 19,  5,  5, 10]], dtype=int32)>"
            ]
          },
          "metadata": {},
          "execution_count": 26
        }
      ]
    },
    {
      "cell_type": "code",
      "source": [
        "user_movies_feats_totals"
      ],
      "metadata": {
        "colab": {
          "base_uri": "https://localhost:8080/"
        },
        "id": "7SkYEuQaRyVZ",
        "outputId": "c5460fbf-3e3f-4225-fb6a-3682530c1bae"
      },
      "execution_count": 31,
      "outputs": [
        {
          "output_type": "execute_result",
          "data": {
            "text/plain": [
              "<tf.Tensor: shape=(4,), dtype=int32, numpy=array([40, 28, 15, 63], dtype=int32)>"
            ]
          },
          "metadata": {},
          "execution_count": 31
        }
      ]
    },
    {
      "cell_type": "code",
      "source": [
        "user_feats = tf.stack([user_movies_feats_sum[i,:]/user_movies_feats_totals[i] for i in range(user_movies.shape[0])], axis=0)"
      ],
      "metadata": {
        "id": "5jPpq6sASANO"
      },
      "execution_count": 39,
      "outputs": []
    },
    {
      "cell_type": "code",
      "source": [
        "user_feats"
      ],
      "metadata": {
        "colab": {
          "base_uri": "https://localhost:8080/"
        },
        "id": "BpkP4bf6SZsb",
        "outputId": "45f3e2a9-3a69-4679-eee4-575976f9c4d0"
      },
      "execution_count": 40,
      "outputs": [
        {
          "output_type": "execute_result",
          "data": {
            "text/plain": [
              "<tf.Tensor: shape=(4, 5), dtype=float64, numpy=\n",
              "array([[0.25      , 0.25      , 0.2       , 0.2       , 0.1       ],\n",
              "       [0.        , 0.        , 0.35714286, 0.35714286, 0.28571429],\n",
              "       [0.4       , 0.4       , 0.        , 0.        , 0.2       ],\n",
              "       [0.38095238, 0.3015873 , 0.07936508, 0.07936508, 0.15873016]])>"
            ]
          },
          "metadata": {},
          "execution_count": 40
        }
      ]
    },
    {
      "cell_type": "code",
      "source": [
        "# Rating filmes\n",
        "user_ratings = [tf.map_fn(lambda x: tf.tensordot(user_feats[i], x, axes=1),\n",
        "                          tf.cast(movies_feats, tf.float64))\n",
        "                for i in range(user_movies.shape[0])]"
      ],
      "metadata": {
        "id": "l9AC46RBStiz"
      },
      "execution_count": 44,
      "outputs": []
    },
    {
      "cell_type": "code",
      "source": [
        "all_users_ratings = tf.stack(user_ratings)"
      ],
      "metadata": {
        "id": "wW7nrMvoTRtm"
      },
      "execution_count": 46,
      "outputs": []
    },
    {
      "cell_type": "code",
      "source": [
        "all_users_ratings"
      ],
      "metadata": {
        "colab": {
          "base_uri": "https://localhost:8080/"
        },
        "id": "JFJe81weT1Fp",
        "outputId": "4cb5d05d-7095-4bec-e3db-38b5ec3aec3d"
      },
      "execution_count": 47,
      "outputs": [
        {
          "output_type": "execute_result",
          "data": {
            "text/plain": [
              "<tf.Tensor: shape=(4, 5), dtype=float64, numpy=\n",
              "array([[0.6       , 0.5       , 0.4       , 0.65      , 0.1       ],\n",
              "       [0.28571429, 0.        , 0.71428571, 0.71428571, 0.28571429],\n",
              "       [1.        , 0.8       , 0.        , 0.4       , 0.2       ],\n",
              "       [0.84126984, 0.68253968, 0.15873016, 0.53968254, 0.15873016]])>"
            ]
          },
          "metadata": {},
          "execution_count": 47
        }
      ]
    },
    {
      "cell_type": "code",
      "source": [],
      "metadata": {
        "id": "HRBoW9suT5nP"
      },
      "execution_count": null,
      "outputs": []
    }
  ]
}